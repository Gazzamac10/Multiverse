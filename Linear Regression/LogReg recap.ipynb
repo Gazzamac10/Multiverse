{
 "cells": [
  {
   "cell_type": "markdown",
   "metadata": {},
   "source": [
    "# Logistic Regression Recap"
   ]
  },
  {
   "cell_type": "code",
   "execution_count": 48,
   "metadata": {},
   "outputs": [
    {
     "data": {
      "text/html": [
       "<div>\n",
       "<style scoped>\n",
       "    .dataframe tbody tr th:only-of-type {\n",
       "        vertical-align: middle;\n",
       "    }\n",
       "\n",
       "    .dataframe tbody tr th {\n",
       "        vertical-align: top;\n",
       "    }\n",
       "\n",
       "    .dataframe thead th {\n",
       "        text-align: right;\n",
       "    }\n",
       "</style>\n",
       "<table border=\"1\" class=\"dataframe\">\n",
       "  <thead>\n",
       "    <tr style=\"text-align: right;\">\n",
       "      <th></th>\n",
       "      <th>College</th>\n",
       "      <th>Private</th>\n",
       "      <th>Apps</th>\n",
       "      <th>Accept</th>\n",
       "      <th>Enroll</th>\n",
       "      <th>Top10perc</th>\n",
       "      <th>Top25perc</th>\n",
       "      <th>F.Undergrad</th>\n",
       "      <th>P.Undergrad</th>\n",
       "      <th>Outstate</th>\n",
       "      <th>Room.Board</th>\n",
       "      <th>Books</th>\n",
       "      <th>Personal</th>\n",
       "      <th>PhD</th>\n",
       "      <th>Terminal</th>\n",
       "      <th>S.F.Ratio</th>\n",
       "      <th>perc.alumni</th>\n",
       "      <th>Expend</th>\n",
       "      <th>Grad.Rate</th>\n",
       "    </tr>\n",
       "  </thead>\n",
       "  <tbody>\n",
       "    <tr>\n",
       "      <th>0</th>\n",
       "      <td>Abilene Christian University</td>\n",
       "      <td>Yes</td>\n",
       "      <td>1660</td>\n",
       "      <td>1232</td>\n",
       "      <td>721</td>\n",
       "      <td>23</td>\n",
       "      <td>52</td>\n",
       "      <td>2885</td>\n",
       "      <td>537</td>\n",
       "      <td>7440</td>\n",
       "      <td>3300</td>\n",
       "      <td>450</td>\n",
       "      <td>2200</td>\n",
       "      <td>70</td>\n",
       "      <td>78</td>\n",
       "      <td>18.1</td>\n",
       "      <td>12</td>\n",
       "      <td>7041</td>\n",
       "      <td>60</td>\n",
       "    </tr>\n",
       "    <tr>\n",
       "      <th>1</th>\n",
       "      <td>Adelphi University</td>\n",
       "      <td>Yes</td>\n",
       "      <td>2186</td>\n",
       "      <td>1924</td>\n",
       "      <td>512</td>\n",
       "      <td>16</td>\n",
       "      <td>29</td>\n",
       "      <td>2683</td>\n",
       "      <td>1227</td>\n",
       "      <td>12280</td>\n",
       "      <td>6450</td>\n",
       "      <td>750</td>\n",
       "      <td>1500</td>\n",
       "      <td>29</td>\n",
       "      <td>30</td>\n",
       "      <td>12.2</td>\n",
       "      <td>16</td>\n",
       "      <td>10527</td>\n",
       "      <td>56</td>\n",
       "    </tr>\n",
       "    <tr>\n",
       "      <th>2</th>\n",
       "      <td>Adrian College</td>\n",
       "      <td>Yes</td>\n",
       "      <td>1428</td>\n",
       "      <td>1097</td>\n",
       "      <td>336</td>\n",
       "      <td>22</td>\n",
       "      <td>50</td>\n",
       "      <td>1036</td>\n",
       "      <td>99</td>\n",
       "      <td>11250</td>\n",
       "      <td>3750</td>\n",
       "      <td>400</td>\n",
       "      <td>1165</td>\n",
       "      <td>53</td>\n",
       "      <td>66</td>\n",
       "      <td>12.9</td>\n",
       "      <td>30</td>\n",
       "      <td>8735</td>\n",
       "      <td>54</td>\n",
       "    </tr>\n",
       "    <tr>\n",
       "      <th>3</th>\n",
       "      <td>Agnes Scott College</td>\n",
       "      <td>Yes</td>\n",
       "      <td>417</td>\n",
       "      <td>349</td>\n",
       "      <td>137</td>\n",
       "      <td>60</td>\n",
       "      <td>89</td>\n",
       "      <td>510</td>\n",
       "      <td>63</td>\n",
       "      <td>12960</td>\n",
       "      <td>5450</td>\n",
       "      <td>450</td>\n",
       "      <td>875</td>\n",
       "      <td>92</td>\n",
       "      <td>97</td>\n",
       "      <td>7.7</td>\n",
       "      <td>37</td>\n",
       "      <td>19016</td>\n",
       "      <td>59</td>\n",
       "    </tr>\n",
       "    <tr>\n",
       "      <th>4</th>\n",
       "      <td>Alaska Pacific University</td>\n",
       "      <td>Yes</td>\n",
       "      <td>193</td>\n",
       "      <td>146</td>\n",
       "      <td>55</td>\n",
       "      <td>16</td>\n",
       "      <td>44</td>\n",
       "      <td>249</td>\n",
       "      <td>869</td>\n",
       "      <td>7560</td>\n",
       "      <td>4120</td>\n",
       "      <td>800</td>\n",
       "      <td>1500</td>\n",
       "      <td>76</td>\n",
       "      <td>72</td>\n",
       "      <td>11.9</td>\n",
       "      <td>2</td>\n",
       "      <td>10922</td>\n",
       "      <td>15</td>\n",
       "    </tr>\n",
       "  </tbody>\n",
       "</table>\n",
       "</div>"
      ],
      "text/plain": [
       "                        College Private  Apps  Accept  Enroll  Top10perc  \\\n",
       "0  Abilene Christian University     Yes  1660    1232     721         23   \n",
       "1            Adelphi University     Yes  2186    1924     512         16   \n",
       "2                Adrian College     Yes  1428    1097     336         22   \n",
       "3           Agnes Scott College     Yes   417     349     137         60   \n",
       "4     Alaska Pacific University     Yes   193     146      55         16   \n",
       "\n",
       "   Top25perc  F.Undergrad  P.Undergrad  Outstate  Room.Board  Books  Personal  \\\n",
       "0         52         2885          537      7440        3300    450      2200   \n",
       "1         29         2683         1227     12280        6450    750      1500   \n",
       "2         50         1036           99     11250        3750    400      1165   \n",
       "3         89          510           63     12960        5450    450       875   \n",
       "4         44          249          869      7560        4120    800      1500   \n",
       "\n",
       "   PhD  Terminal  S.F.Ratio  perc.alumni  Expend  Grad.Rate  \n",
       "0   70        78       18.1           12    7041         60  \n",
       "1   29        30       12.2           16   10527         56  \n",
       "2   53        66       12.9           30    8735         54  \n",
       "3   92        97        7.7           37   19016         59  \n",
       "4   76        72       11.9            2   10922         15  "
      ]
     },
     "execution_count": 48,
     "metadata": {},
     "output_type": "execute_result"
    }
   ],
   "source": [
    "import pandas as pd\n",
    "import matplotlib.pyplot as plt\n",
    "\n",
    "college=pd.read_csv('College_data.csv')\n",
    "college.head()"
   ]
  },
  {
   "cell_type": "code",
   "execution_count": 49,
   "metadata": {},
   "outputs": [
    {
     "data": {
      "text/html": [
       "<div>\n",
       "<style scoped>\n",
       "    .dataframe tbody tr th:only-of-type {\n",
       "        vertical-align: middle;\n",
       "    }\n",
       "\n",
       "    .dataframe tbody tr th {\n",
       "        vertical-align: top;\n",
       "    }\n",
       "\n",
       "    .dataframe thead th {\n",
       "        text-align: right;\n",
       "    }\n",
       "</style>\n",
       "<table border=\"1\" class=\"dataframe\">\n",
       "  <thead>\n",
       "    <tr style=\"text-align: right;\">\n",
       "      <th></th>\n",
       "      <th>College</th>\n",
       "      <th>Private</th>\n",
       "      <th>Apps</th>\n",
       "      <th>Accept</th>\n",
       "      <th>Enroll</th>\n",
       "      <th>Top10perc</th>\n",
       "      <th>Top25perc</th>\n",
       "      <th>F.Undergrad</th>\n",
       "      <th>P.Undergrad</th>\n",
       "      <th>Outstate</th>\n",
       "      <th>Room.Board</th>\n",
       "      <th>Books</th>\n",
       "      <th>Personal</th>\n",
       "      <th>PhD</th>\n",
       "      <th>Terminal</th>\n",
       "      <th>S.F.Ratio</th>\n",
       "      <th>perc.alumni</th>\n",
       "      <th>Expend</th>\n",
       "      <th>Grad.Rate</th>\n",
       "    </tr>\n",
       "  </thead>\n",
       "  <tbody>\n",
       "    <tr>\n",
       "      <th>0</th>\n",
       "      <td>Abilene Christian University</td>\n",
       "      <td>Yes</td>\n",
       "      <td>1660</td>\n",
       "      <td>1232</td>\n",
       "      <td>721</td>\n",
       "      <td>23</td>\n",
       "      <td>52</td>\n",
       "      <td>2885</td>\n",
       "      <td>537</td>\n",
       "      <td>7440</td>\n",
       "      <td>3300</td>\n",
       "      <td>450</td>\n",
       "      <td>2200</td>\n",
       "      <td>70</td>\n",
       "      <td>78</td>\n",
       "      <td>18.1</td>\n",
       "      <td>12</td>\n",
       "      <td>7041</td>\n",
       "      <td>60</td>\n",
       "    </tr>\n",
       "    <tr>\n",
       "      <th>1</th>\n",
       "      <td>Adelphi University</td>\n",
       "      <td>Yes</td>\n",
       "      <td>2186</td>\n",
       "      <td>1924</td>\n",
       "      <td>512</td>\n",
       "      <td>16</td>\n",
       "      <td>29</td>\n",
       "      <td>2683</td>\n",
       "      <td>1227</td>\n",
       "      <td>12280</td>\n",
       "      <td>6450</td>\n",
       "      <td>750</td>\n",
       "      <td>1500</td>\n",
       "      <td>29</td>\n",
       "      <td>30</td>\n",
       "      <td>12.2</td>\n",
       "      <td>16</td>\n",
       "      <td>10527</td>\n",
       "      <td>56</td>\n",
       "    </tr>\n",
       "    <tr>\n",
       "      <th>2</th>\n",
       "      <td>Adrian College</td>\n",
       "      <td>Yes</td>\n",
       "      <td>1428</td>\n",
       "      <td>1097</td>\n",
       "      <td>336</td>\n",
       "      <td>22</td>\n",
       "      <td>50</td>\n",
       "      <td>1036</td>\n",
       "      <td>99</td>\n",
       "      <td>11250</td>\n",
       "      <td>3750</td>\n",
       "      <td>400</td>\n",
       "      <td>1165</td>\n",
       "      <td>53</td>\n",
       "      <td>66</td>\n",
       "      <td>12.9</td>\n",
       "      <td>30</td>\n",
       "      <td>8735</td>\n",
       "      <td>54</td>\n",
       "    </tr>\n",
       "    <tr>\n",
       "      <th>3</th>\n",
       "      <td>Agnes Scott College</td>\n",
       "      <td>Yes</td>\n",
       "      <td>417</td>\n",
       "      <td>349</td>\n",
       "      <td>137</td>\n",
       "      <td>60</td>\n",
       "      <td>89</td>\n",
       "      <td>510</td>\n",
       "      <td>63</td>\n",
       "      <td>12960</td>\n",
       "      <td>5450</td>\n",
       "      <td>450</td>\n",
       "      <td>875</td>\n",
       "      <td>92</td>\n",
       "      <td>97</td>\n",
       "      <td>7.7</td>\n",
       "      <td>37</td>\n",
       "      <td>19016</td>\n",
       "      <td>59</td>\n",
       "    </tr>\n",
       "    <tr>\n",
       "      <th>4</th>\n",
       "      <td>Alaska Pacific University</td>\n",
       "      <td>Yes</td>\n",
       "      <td>193</td>\n",
       "      <td>146</td>\n",
       "      <td>55</td>\n",
       "      <td>16</td>\n",
       "      <td>44</td>\n",
       "      <td>249</td>\n",
       "      <td>869</td>\n",
       "      <td>7560</td>\n",
       "      <td>4120</td>\n",
       "      <td>800</td>\n",
       "      <td>1500</td>\n",
       "      <td>76</td>\n",
       "      <td>72</td>\n",
       "      <td>11.9</td>\n",
       "      <td>2</td>\n",
       "      <td>10922</td>\n",
       "      <td>15</td>\n",
       "    </tr>\n",
       "  </tbody>\n",
       "</table>\n",
       "</div>"
      ],
      "text/plain": [
       "                        College Private  Apps  Accept  Enroll  Top10perc  \\\n",
       "0  Abilene Christian University     Yes  1660    1232     721         23   \n",
       "1            Adelphi University     Yes  2186    1924     512         16   \n",
       "2                Adrian College     Yes  1428    1097     336         22   \n",
       "3           Agnes Scott College     Yes   417     349     137         60   \n",
       "4     Alaska Pacific University     Yes   193     146      55         16   \n",
       "\n",
       "   Top25perc  F.Undergrad  P.Undergrad  Outstate  Room.Board  Books  Personal  \\\n",
       "0         52         2885          537      7440        3300    450      2200   \n",
       "1         29         2683         1227     12280        6450    750      1500   \n",
       "2         50         1036           99     11250        3750    400      1165   \n",
       "3         89          510           63     12960        5450    450       875   \n",
       "4         44          249          869      7560        4120    800      1500   \n",
       "\n",
       "   PhD  Terminal  S.F.Ratio  perc.alumni  Expend  Grad.Rate  \n",
       "0   70        78       18.1           12    7041         60  \n",
       "1   29        30       12.2           16   10527         56  \n",
       "2   53        66       12.9           30    8735         54  \n",
       "3   92        97        7.7           37   19016         59  \n",
       "4   76        72       11.9            2   10922         15  "
      ]
     },
     "execution_count": 49,
     "metadata": {},
     "output_type": "execute_result"
    }
   ],
   "source": [
    "#college_clean=college[college['Grad.Rate']<=100] #remove outlier\n",
    "college_clean = college.loc[college['Grad.Rate'] <= 100]\n",
    "college_clean.head()"
   ]
  },
  {
   "cell_type": "code",
   "execution_count": 50,
   "metadata": {},
   "outputs": [
    {
     "name": "stdout",
     "output_type": "stream",
     "text": [
      "65.39561855670104\n"
     ]
    }
   ],
   "source": [
    "cut_off=college_clean['Grad.Rate'].mean()\n",
    "print(cut_off)"
   ]
  },
  {
   "cell_type": "markdown",
   "metadata": {},
   "source": [
    "Any school with a graduation rate above 65.4% will be considered above average."
   ]
  },
  {
   "cell_type": "code",
   "execution_count": 51,
   "metadata": {},
   "outputs": [
    {
     "name": "stderr",
     "output_type": "stream",
     "text": [
      "C:\\ProgramData\\Anaconda3\\lib\\site-packages\\pandas\\core\\indexing.py:1835: SettingWithCopyWarning: \n",
      "A value is trying to be set on a copy of a slice from a DataFrame.\n",
      "Try using .loc[row_indexer,col_indexer] = value instead\n",
      "\n",
      "See the caveats in the documentation: https://pandas.pydata.org/pandas-docs/stable/user_guide/indexing.html#returning-a-view-versus-a-copy\n",
      "  self._setitem_single_column(loc, value[:, i].tolist(), pi)\n"
     ]
    }
   ],
   "source": [
    "#college_clean['above_average']=college_clean['Grad.Rate'].apply(lambda x: 1 if x>= cut_off else 0)\n",
    "college_clean.loc[college_clean['Grad.Rate'].notna(), ['above_average']] = college_clean['Grad.Rate'].apply(lambda x: 1 if x >= cut_off else 0)\n"
   ]
  },
  {
   "cell_type": "code",
   "execution_count": 52,
   "metadata": {},
   "outputs": [],
   "source": [
    "from sklearn.model_selection import train_test_split\n",
    "\n",
    "X=college_clean[['Top10perc']]\n",
    "y=college_clean.above_average\n",
    "\n",
    "X_train, X_test, y_train, y_test = train_test_split(X,y, stratify=y, train_size=0.8,random_state=100)\n",
    "# Notice the additional argument, stratify=y, this is to ensure that both sets have the same proportion of target labels"
   ]
  },
  {
   "cell_type": "code",
   "execution_count": 53,
   "metadata": {},
   "outputs": [
    {
     "data": {
      "text/plain": [
       "LogisticRegression()"
      ]
     },
     "execution_count": 53,
     "metadata": {},
     "output_type": "execute_result"
    }
   ],
   "source": [
    "from sklearn.linear_model import LogisticRegression\n",
    "\n",
    "logreg=LogisticRegression()\n",
    "logreg.fit(X_train,y_train)"
   ]
  },
  {
   "cell_type": "code",
   "execution_count": 54,
   "metadata": {},
   "outputs": [],
   "source": [
    "import numpy as np"
   ]
  },
  {
   "cell_type": "markdown",
   "metadata": {},
   "source": [
    "## Interpret the model\n",
    "\n",
    "Like with linear regression we can examine the intercept and coefficient of the model:"
   ]
  },
  {
   "cell_type": "code",
   "execution_count": 55,
   "metadata": {},
   "outputs": [
    {
     "data": {
      "text/plain": [
       "array([-1.66275628])"
      ]
     },
     "execution_count": 55,
     "metadata": {},
     "output_type": "execute_result"
    }
   ],
   "source": [
    "logreg.intercept_"
   ]
  },
  {
   "cell_type": "markdown",
   "metadata": {},
   "source": [
    "The intercept is the output from the model when the values of the X variable/s is equal to zero"
   ]
  },
  {
   "cell_type": "code",
   "execution_count": 66,
   "metadata": {},
   "outputs": [
    {
     "data": {
      "text/plain": [
       "array([[0.06314022]])"
      ]
     },
     "execution_count": 66,
     "metadata": {},
     "output_type": "execute_result"
    }
   ],
   "source": [
    "logreg.coef_"
   ]
  },
  {
   "cell_type": "markdown",
   "metadata": {},
   "source": [
    "If the coefficient is positive, it means as the value of the independent variable increases the odds it assigns to the default label increases, while the opposite is true for negative coefficients."
   ]
  },
  {
   "cell_type": "markdown",
   "metadata": {},
   "source": [
    "As discussed previously the output of the intercept and coefficients from the logistic regression model are in the form Ln(odds) which makes them dificult to interpret physically (in real life). Fortunately, logistic regression model has a function built in that returns values as probabilities. "
   ]
  },
  {
   "cell_type": "code",
   "execution_count": 57,
   "metadata": {},
   "outputs": [
    {
     "data": {
      "text/plain": [
       "array([[0.84060765, 0.15939235]])"
      ]
     },
     "execution_count": 57,
     "metadata": {},
     "output_type": "execute_result"
    }
   ],
   "source": [
    "logreg.predict_proba([[0]])"
   ]
  },
  {
   "cell_type": "markdown",
   "metadata": {},
   "source": [
    "[Probability of graduation rate being below average (0), Probability of graduation rate being above average (1)]"
   ]
  },
  {
   "cell_type": "markdown",
   "metadata": {},
   "source": [
    "When X = 0 this function returns the intercept as a probability. This is the probability that a college has an above average graduation rate when 0% of the students were in the top 10% of their high school."
   ]
  },
  {
   "cell_type": "markdown",
   "metadata": {},
   "source": [
    "Scenario: \n",
    "Our university currently has 10% of students from the top 10percent of their high school class\n",
    "What is the probability that our university has an above average grad rate?"
   ]
  },
  {
   "cell_type": "code",
   "execution_count": 58,
   "metadata": {},
   "outputs": [
    {
     "data": {
      "text/plain": [
       "array([[0.73717832, 0.26282168]])"
      ]
     },
     "execution_count": 58,
     "metadata": {},
     "output_type": "execute_result"
    }
   ],
   "source": [
    "logreg.predict_proba([[10]])"
   ]
  },
  {
   "cell_type": "markdown",
   "metadata": {},
   "source": [
    "If we increased the proportion to 20% at our uni what would the probability be of our graduation rate being above average?"
   ]
  },
  {
   "cell_type": "code",
   "execution_count": 59,
   "metadata": {},
   "outputs": [
    {
     "data": {
      "text/plain": [
       "array([[0.59867608, 0.40132392]])"
      ]
     },
     "execution_count": 59,
     "metadata": {},
     "output_type": "execute_result"
    }
   ],
   "source": [
    "logreg.predict_proba([[20]])"
   ]
  },
  {
   "cell_type": "markdown",
   "metadata": {},
   "source": [
    "You can see that as the proportion of students from the top 10% of high school increases the probability of being above average graduation rate increases as expected for a positive coefficient.\n",
    "\n",
    "You may also notice the amount it increases is not linear, X increase by 10 each time but the probability increases by 0.10342933 in the first step then 0.13850224 in the second step."
   ]
  },
  {
   "cell_type": "code",
   "execution_count": 60,
   "metadata": {},
   "outputs": [
    {
     "name": "stdout",
     "output_type": "stream",
     "text": [
      "X= 0% Probability: [0.15939235] diff : [0.]\n",
      "X= 1% Probability: [0.16803528] diff : [0.00864294]\n",
      "X= 2% Probability: [0.17704817] diff : [0.00901289]\n",
      "X= 3% Probability: [0.18643615] diff : [0.00938798]\n",
      "X= 4% Probability: [0.19620324] diff : [0.00976709]\n",
      "X= 5% Probability: [0.20635223] diff : [0.01014899]\n",
      "X= 6% Probability: [0.21688455] diff : [0.01053232]\n",
      "X= 7% Probability: [0.22780014] diff : [0.01091559]\n",
      "X= 8% Probability: [0.23909738] diff : [0.01129723]\n",
      "X= 9% Probability: [0.25077292] diff : [0.01167555]\n",
      "X= 10% Probability: [0.26282168] diff : [0.01204876]\n",
      "X= 11% Probability: [0.27523667] diff : [0.01241499]\n",
      "X= 12% Probability: [0.28800899] diff : [0.01277232]\n",
      "X= 13% Probability: [0.30112775] diff : [0.01311876]\n",
      "X= 14% Probability: [0.31458005] diff : [0.0134523]\n",
      "X= 15% Probability: [0.32835095] diff : [0.01377091]\n",
      "X= 16% Probability: [0.34242353] diff : [0.01407257]\n",
      "X= 17% Probability: [0.35677885] diff : [0.01435532]\n",
      "X= 18% Probability: [0.37139608] diff : [0.01461723]\n",
      "X= 19% Probability: [0.38625256] diff : [0.01485648]\n",
      "X= 20% Probability: [0.40132392] diff : [0.01507135]\n",
      "X= 21% Probability: [0.41658419] diff : [0.01526027]\n",
      "X= 22% Probability: [0.432006] diff : [0.01542182]\n",
      "X= 23% Probability: [0.44756076] diff : [0.01555476]\n",
      "X= 24% Probability: [0.46321883] diff : [0.01565807]\n",
      "X= 25% Probability: [0.47894978] diff : [0.01573094]\n",
      "X= 26% Probability: [0.49472258] diff : [0.0157728]\n",
      "X= 27% Probability: [0.51050589] diff : [0.01578331]\n",
      "X= 28% Probability: [0.52626828] diff : [0.01576239]\n",
      "X= 29% Probability: [0.5419785] diff : [0.01571021]\n",
      "X= 30% Probability: [0.55760568] diff : [0.01562718]\n",
      "X= 31% Probability: [0.57311962] diff : [0.01551395]\n",
      "X= 32% Probability: [0.58849103] diff : [0.0153714]\n",
      "X= 33% Probability: [0.60369167] diff : [0.01520065]\n",
      "X= 34% Probability: [0.61869464] diff : [0.01500296]\n",
      "X= 35% Probability: [0.63347447] diff : [0.01477983]\n",
      "X= 36% Probability: [0.64800735] diff : [0.01453288]\n",
      "X= 37% Probability: [0.66227121] diff : [0.01426386]\n",
      "X= 38% Probability: [0.67624584] diff : [0.01397463]\n",
      "X= 39% Probability: [0.68991296] diff : [0.01366713]\n",
      "X= 40% Probability: [0.70325631] diff : [0.01334335]\n",
      "X= 41% Probability: [0.71626162] diff : [0.01300531]\n",
      "X= 42% Probability: [0.72891666] diff : [0.01265504]\n",
      "X= 43% Probability: [0.7412112] diff : [0.01229454]\n",
      "X= 44% Probability: [0.75313698] diff : [0.01192579]\n",
      "X= 45% Probability: [0.76468767] diff : [0.01155068]\n",
      "X= 46% Probability: [0.77585874] diff : [0.01117107]\n",
      "X= 47% Probability: [0.78664745] diff : [0.01078871]\n",
      "X= 48% Probability: [0.7970527] diff : [0.01040525]\n",
      "X= 49% Probability: [0.80707493] diff : [0.01002224]\n"
     ]
    }
   ],
   "source": [
    "for i in range(50):\n",
    "    if i == 0:\n",
    "        Prev=np.exp(logreg.intercept_[0])/(1+np.exp(logreg.intercept_[0]))\n",
    "    else:\n",
    "        Prev=current\n",
    "    current=np.exp(logreg.intercept_[0]+logreg.coef_[0]*i)/(1+np.exp(logreg.intercept_[0]+logreg.coef_[0]*i))\n",
    "    print(f\"X= {i}%\", \"Probability:\", current, \"diff :\", current-Prev)"
   ]
  },
  {
   "cell_type": "markdown",
   "metadata": {},
   "source": [
    "This is the probability output from our model and the difference between each probability as we incrimentally increase the independent variable/predictor/X from 0->50.\n",
    "This will output a sigmoid curve which can be used for interpretation "
   ]
  },
  {
   "cell_type": "markdown",
   "metadata": {},
   "source": [
    "We can present this visually using the code below. We have taken the logistic regression output (creating a straight line) and converted it into probabilty form (creating the sigmoid curve) so that we can interpret our model."
   ]
  },
  {
   "cell_type": "code",
   "execution_count": 61,
   "metadata": {},
   "outputs": [
    {
     "data": {
      "image/png": "[encoded data removed]",
      "text/plain": [
       "<Figure size 432x288 with 1 Axes>"
      ]
     },
     "metadata": {
      "needs_background": "light"
     },
     "output_type": "display_data"
    }
   ],
   "source": [
    "#np.exp(logreg.intercept_[0]+logreg.coef_[0]*i)/(1+np.exp(logreg.intercept_[0]+logreg.coef_[0]*i))\n",
    "# this code above converts logistic regressin ln(odds) output to probability\n",
    "\n",
    "\n",
    "probs = [np.exp(logreg.intercept_[0]+logreg.coef_[0]*i)/(1+np.exp(logreg.intercept_[0]+logreg.coef_[0]*i)) for i in range(0,100)]   \n",
    "z=[i for i in range(0,100)]\n",
    "\n",
    "# plot Top10perc against above_average with sigmoid curve and lines to indicate p=0.5 and Top10perc=26.3\n",
    "fig,ax=plt.subplots()\n",
    "ax.plot(college_clean.Top10perc,college_clean.above_average,'.')\n",
    "ax.plot(z,probs,'.')\n",
    "ax.vlines(26.3,ymin=0,ymax=1)\n",
    "ax.hlines(1,xmin=0,xmax=100)\n",
    "plt.show()\n",
    "  "
   ]
  },
  {
   "cell_type": "markdown",
   "metadata": {},
   "source": [
    "As highlighted previously the logistic regression model outputs the data in Ln(odds)(intercept and coeffiecient). This is hard for us to interpret but the reason it does is it realies on linear regression behind the scenes. This can be demonstrated below with equal incrimental steps in X leading to incrimental increases in y as y= mx + c."
   ]
  },
  {
   "cell_type": "code",
   "execution_count": 62,
   "metadata": {},
   "outputs": [
    {
     "name": "stdout",
     "output_type": "stream",
     "text": [
      "X= 0% current: [-1.66275628] diff : [0.]\n",
      "X= 1% current: [-1.59961605] diff : [0.06314022]\n",
      "X= 2% current: [-1.53647583] diff : [0.06314022]\n",
      "X= 3% current: [-1.47333561] diff : [0.06314022]\n",
      "X= 4% current: [-1.41019538] diff : [0.06314022]\n",
      "X= 5% current: [-1.34705516] diff : [0.06314022]\n",
      "X= 6% current: [-1.28391494] diff : [0.06314022]\n",
      "X= 7% current: [-1.22077471] diff : [0.06314022]\n",
      "X= 8% current: [-1.15763449] diff : [0.06314022]\n",
      "X= 9% current: [-1.09449427] diff : [0.06314022]\n",
      "X= 10% current: [-1.03135405] diff : [0.06314022]\n",
      "X= 11% current: [-0.96821382] diff : [0.06314022]\n",
      "X= 12% current: [-0.9050736] diff : [0.06314022]\n",
      "X= 13% current: [-0.84193338] diff : [0.06314022]\n",
      "X= 14% current: [-0.77879315] diff : [0.06314022]\n",
      "X= 15% current: [-0.71565293] diff : [0.06314022]\n",
      "X= 16% current: [-0.65251271] diff : [0.06314022]\n",
      "X= 17% current: [-0.58937248] diff : [0.06314022]\n",
      "X= 18% current: [-0.52623226] diff : [0.06314022]\n",
      "X= 19% current: [-0.46309204] diff : [0.06314022]\n",
      "X= 20% current: [-0.39995182] diff : [0.06314022]\n",
      "X= 21% current: [-0.33681159] diff : [0.06314022]\n",
      "X= 22% current: [-0.27367137] diff : [0.06314022]\n",
      "X= 23% current: [-0.21053115] diff : [0.06314022]\n",
      "X= 24% current: [-0.14739092] diff : [0.06314022]\n",
      "X= 25% current: [-0.0842507] diff : [0.06314022]\n",
      "X= 26% current: [-0.02111048] diff : [0.06314022]\n",
      "X= 27% current: [0.04202975] diff : [0.06314022]\n",
      "X= 28% current: [0.10516997] diff : [0.06314022]\n",
      "X= 29% current: [0.16831019] diff : [0.06314022]\n",
      "X= 30% current: [0.23145042] diff : [0.06314022]\n",
      "X= 31% current: [0.29459064] diff : [0.06314022]\n",
      "X= 32% current: [0.35773086] diff : [0.06314022]\n",
      "X= 33% current: [0.42087108] diff : [0.06314022]\n",
      "X= 34% current: [0.48401131] diff : [0.06314022]\n",
      "X= 35% current: [0.54715153] diff : [0.06314022]\n",
      "X= 36% current: [0.61029175] diff : [0.06314022]\n",
      "X= 37% current: [0.67343198] diff : [0.06314022]\n",
      "X= 38% current: [0.7365722] diff : [0.06314022]\n",
      "X= 39% current: [0.79971242] diff : [0.06314022]\n",
      "X= 40% current: [0.86285265] diff : [0.06314022]\n",
      "X= 41% current: [0.92599287] diff : [0.06314022]\n",
      "X= 42% current: [0.98913309] diff : [0.06314022]\n",
      "X= 43% current: [1.05227331] diff : [0.06314022]\n",
      "X= 44% current: [1.11541354] diff : [0.06314022]\n",
      "X= 45% current: [1.17855376] diff : [0.06314022]\n",
      "X= 46% current: [1.24169398] diff : [0.06314022]\n",
      "X= 47% current: [1.30483421] diff : [0.06314022]\n",
      "X= 48% current: [1.36797443] diff : [0.06314022]\n",
      "X= 49% current: [1.43111465] diff : [0.06314022]\n"
     ]
    }
   ],
   "source": [
    "for i in range(50):\n",
    "    if i == 0:\n",
    "        Prev=logreg.intercept_[0]\n",
    "    else:\n",
    "        Prev=current\n",
    "    current=(logreg.coef_[0]*i) + logreg.intercept_[0] #y = mx + c\n",
    "    print(f\"X= {i}%\", \"current:\", current, \"diff :\", current-Prev)"
   ]
  },
  {
   "cell_type": "markdown",
   "metadata": {},
   "source": [
    "We can present this visually using the code below. We have taken the logistic regression output (creating a straight line) and plotted it below."
   ]
  },
  {
   "cell_type": "code",
   "execution_count": 68,
   "metadata": {},
   "outputs": [
    {
     "data": {
      "image/png": "[encoded data removed]",
      "text/plain": [
       "<Figure size 432x288 with 1 Axes>"
      ]
     },
     "metadata": {
      "needs_background": "light"
     },
     "output_type": "display_data"
    }
   ],
   "source": [
    "# logreg.intercept_[0]+logreg.coef_[0]*i\n",
    "# this line outputs the logistic regression ln(odds)\n",
    "\n",
    "lnOdds = [(logreg.intercept_[0]+logreg.coef_[0]*i) for i in range(0,100)]   \n",
    "z=[i for i in range(0,100)] \n",
    "\n",
    "# plot Top10perc against above_average with sigmoid curve and lines to indicate p=0.5 and Top10perc=26.3\n",
    "fig,ax=plt.subplots()\n",
    "ax.plot(college_clean.Top10perc,college_clean.above_average,'.')\n",
    "ax.plot(z,lnOdds,'.')\n",
    "ax.vlines(26.3,ymin=0,ymax=1)\n",
    "ax.hlines(1,xmin=0,xmax=100)\n",
    "plt.show()"
   ]
  },
  {
   "cell_type": "code",
   "execution_count": null,
   "metadata": {},
   "outputs": [],
   "source": []
  }
 ],
 "metadata": {
  "kernelspec": {
   "display_name": "Python 3 (ipykernel)",
   "language": "python",
   "name": "python3"
  },
  "language_info": {
   "codemirror_mode": {
    "name": "ipython",
    "version": 3
   },
   "file_extension": ".py",
   "mimetype": "text/x-python",
   "name": "python",
   "nbconvert_exporter": "python",
   "pygments_lexer": "ipython3",
   "version": "3.9.12"
  }
 },
 "nbformat": 4,
 "nbformat_minor": 4
}
